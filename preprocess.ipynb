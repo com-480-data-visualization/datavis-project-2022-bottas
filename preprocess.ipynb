{
 "cells": [
  {
   "cell_type": "code",
   "execution_count": null,
   "metadata": {},
   "outputs": [],
   "source": [
    "import pandas as pd\n",
    "import numpy as np\n",
    "# from nltk.stem import WordNetLemmatizer\n",
    "# import nltk\n",
    "# nltk.download('omw-1.4')\n",
    "\n",
    "import json"
   ]
  },
  {
   "cell_type": "code",
   "execution_count": null,
   "metadata": {},
   "outputs": [],
   "source": [
    "data = pd.read_csv('data.zip')\n",
    "data"
   ]
  },
  {
   "cell_type": "code",
   "execution_count": null,
   "metadata": {},
   "outputs": [],
   "source": [
    "with open('docs/hotel_data.geojson', 'r') as f:\n",
    "    data_dict = json.load(f)"
   ]
  },
  {
   "cell_type": "code",
   "execution_count": null,
   "metadata": {},
   "outputs": [],
   "source": [
    "# each item in the list data_dict['features'] corresponds to a hotel\n",
    "data_dict['features'][0]['properties']"
   ]
  },
  {
   "cell_type": "code",
   "execution_count": null,
   "metadata": {},
   "outputs": [],
   "source": [
    "scoremap = { name: score for name, score in data[['Hotel_Name', 'Average_Score']].to_numpy() }\n",
    "\n",
    "# so to add metadata to each hotel:\n",
    "for hotel in data_dict['features']:\n",
    "    hotel['properties']['average_score'] = scoremap[hotel['properties']['name']]"
   ]
  },
  {
   "cell_type": "code",
   "execution_count": null,
   "metadata": {},
   "outputs": [],
   "source": [
    "with open('hotel_data_new.geojson', w) as f:\n",
    "    f.write(json.dumps())"
   ]
  }
 ],
 "metadata": {
  "interpreter": {
   "hash": "7d54dbc154cd70c7974401ebd8512e815f7ae0bf845822028caa26bbc175f7e0"
  },
  "kernelspec": {
   "display_name": "Python 3.8.10 ('visenv': venv)",
   "language": "python",
   "name": "python3"
  },
  "language_info": {
   "codemirror_mode": {
    "name": "ipython",
    "version": 3
   },
   "file_extension": ".py",
   "mimetype": "text/x-python",
   "name": "python",
   "nbconvert_exporter": "python",
   "pygments_lexer": "ipython3",
   "version": "3.8.10"
  },
  "orig_nbformat": 4
 },
 "nbformat": 4,
 "nbformat_minor": 2
}
